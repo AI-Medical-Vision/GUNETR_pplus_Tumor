{
 "cells": [
  {
   "cell_type": "code",
   "execution_count": 1,
   "id": "ed127b57",
   "metadata": {},
   "outputs": [
    {
     "name": "stderr",
     "output_type": "stream",
     "text": [
      "In the future `np.bool` will be defined as the corresponding NumPy scalar.\n",
      "In the future `np.bool` will be defined as the corresponding NumPy scalar.\n",
      "In the future `np.bool` will be defined as the corresponding NumPy scalar.\n"
     ]
    },
    {
     "name": "stdout",
     "output_type": "stream",
     "text": [
      "\n",
      "===================================BUG REPORT===================================\n",
      "Welcome to bitsandbytes. For bug reports, please run\n",
      "\n",
      "python -m bitsandbytes\n",
      "\n",
      " and submit this information together with your error trace to: https://github.com/TimDettmers/bitsandbytes/issues\n",
      "================================================================================\n",
      "bin C:\\Users\\user\\anaconda3\\envs\\ailab\\lib\\site-packages\\bitsandbytes\\libbitsandbytes_cuda116.dll\n",
      "CUDA SETUP: CUDA runtime path found: C:\\Users\\user\\anaconda3\\envs\\ailab\\bin\\cudart64_110.dll\n",
      "CUDA SETUP: Highest compute capability among GPUs detected: 8.6\n",
      "CUDA SETUP: Detected CUDA version 116\n",
      "CUDA SETUP: Loading binary C:\\Users\\user\\anaconda3\\envs\\ailab\\lib\\site-packages\\bitsandbytes\\libbitsandbytes_cuda116.dll...\n"
     ]
    }
   ],
   "source": [
    "import torchio as tio\n",
    "import os\n",
    "import nibabel as nib\n",
    "import numpy as np\n",
    "import torch\n",
    "import pandas as pd\n",
    "\n",
    "from monai.metrics import compute_average_surface_distance, get_confusion_matrix\n",
    "from collections.abc import Sequence\n",
    "from monai.metrics.utils import get_mask_edges, get_surface_distance, ignore_background, prepare_spacing\n",
    "from monai.utils import convert_data_type, convert_to_tensor\n",
    "from tqdm import tqdm\n",
    "\n",
    "from scipy import ndimage\n",
    "from scipy.ndimage import binary_fill_holes, binary_erosion, binary_dilation, median_filter, binary_erosion\n",
    "#from scipy.ndimage import label"
   ]
  },
  {
   "cell_type": "code",
   "execution_count": 2,
   "id": "372a6040",
   "metadata": {},
   "outputs": [],
   "source": [
    "# metric class\n",
    "class Metric:\n",
    "    def __init__(self, GT, PRED):\n",
    "        self.gt = GT\n",
    "        self.pred = PRED\n",
    "        \n",
    "        # metric list\n",
    "        self.DC_list = []\n",
    "        self.DG_numerator = []\n",
    "        self.DG_denominator = []\n",
    "        self.Jaccard_list = []\n",
    "        self.VOE_list = []\n",
    "        self.RVD_list = []\n",
    "        self.RAVD_list = []\n",
    "        self.ASSD_list = []\n",
    "        self.RMSD_list = []\n",
    "        self.MSSD_list = []\n",
    "        self.TP_list = []\n",
    "        self.TN_list = []\n",
    "        self.FP_list = []\n",
    "        self.FN_list = []\n",
    "        self.SEN_list = []\n",
    "        self.SPE_list = []\n",
    "        \n",
    "    def cal_DC_and_DG(self):\n",
    "        # inersection, union, dice 계산\n",
    "        intersection = (self.pred*self.gt).sum()\n",
    "        union = self.pred.sum() + self.gt.sum()\n",
    "        dice = 2*intersection/union\n",
    "        \n",
    "        self.DG_numerator.append(intersection)\n",
    "        self.DG_denominator.append(union)\n",
    "        self.DC_list.append(dice) # save\n",
    "    \n",
    "    def cal_Jaccard_and_VOE(self):\n",
    "        intersection = (self.pred*self.gt).sum()\n",
    "        union = self.pred.sum() + self.gt.sum() - (self.pred*self.gt).sum()\n",
    "        jaccard = intersection/union\n",
    "        \n",
    "        self.Jaccard_list.append(jaccard)\n",
    "        self.VOE_list.append(1-jaccard)\n",
    "    \n",
    "    # RAVD equation: by CotepRes-Net\n",
    "    def cal_RVD_and_RAVD(self):\n",
    "        numerator = self.pred.sum() - self.gt.sum()\n",
    "        denominator = self.pred.sum() # another paper mentioned, self.gt.sum()\n",
    "        RVD = numerator/denominator\n",
    "        \n",
    "        self.RVD_list.append(RVD)\n",
    "        self.RAVD_list.append(abs(RVD))\n",
    "    \n",
    "    # average symmetric surface distance (ASD or ASSD)\n",
    "    def cal_ASSD(self):\n",
    "        # monai module\n",
    "        # compute_average_surface_distance\n",
    "        assd = compute_average_surface_distance(self.pred, self.gt, symmetric=True)\n",
    "        \n",
    "        self.ASSD_list.append(assd)\n",
    "    \n",
    "    # root mean symmetric surface distance (RMSD)\n",
    "    def cal_RMSD(self):\n",
    "        rmsd = self.compute_root_mean_surface_distance(symmetric=True)\n",
    "        \n",
    "        self.RMSD_list.append(rmsd)\n",
    "        \n",
    "    # Maximum symmetric surface distance (MSD)\n",
    "    def cal_MSSD(self):\n",
    "        mssd = self.compute_maximum_surface_distance()\n",
    "        \n",
    "        self.MSSD_list.append(mssd)\n",
    "    \n",
    "    def cal_CONFUSION_MATRIX(self):\n",
    "        pred, gt = torch.Tensor(self.pred), torch.Tensor(self.gt)\n",
    "        confusion_matrix = get_confusion_matrix(pred, gt, include_background=False)\n",
    "        tp, fp, tn, fn = confusion_matrix[0,0,...] #  3D -> 1D\n",
    "        SEN = tp/(tp+fn)\n",
    "        SPE = tn/(tn+fp)\n",
    "        \n",
    "        self.TP_list.append(tp)\n",
    "        self.TN_list.append(tn)\n",
    "        self.FP_list.append(fp)\n",
    "        self.FN_list.append(fn)\n",
    "        \n",
    "        self.SEN_list.append(SEN)\n",
    "        self.SPE_list.append(SPE)\n",
    "    \n",
    "    def print_metric(self):\n",
    "        print(\"DC score(upper):\", self.DC_list[0])\n",
    "        #print(\"DG score(upper):\", self.DG_numerator[0]/self.DG_denominator[0])\n",
    "        print(\"Jaccard score(upper):\", self.Jaccard_list[0])\n",
    "        print(\"VOE score(lower):\", self.VOE_list[0])\n",
    "        #print(\"RVD score(lower):\", self.RVD_list[0])\n",
    "        print(\"RAVD score(lower):\", self.RAVD_list[0])\n",
    "        print(\"ASSD score(lower):\", self.ASSD_list[0].item())\n",
    "        print(\"RMSD score(lower):\", self.RMSD_list[0].item())\n",
    "        print(\"MSSD score(lower):\", self.MSSD_list[0].item())\n",
    "        print(\"SEN score(upper):\", self.SEN_list[0].item())\n",
    "        print(\"SPE score(upper):\", self.SPE_list[0].item())\n",
    "    \n",
    "    def save_metric(self):\n",
    "        return self.DC_list[0], self.Jaccard_list[0], self.VOE_list[0], self.RAVD_list[0], self.ASSD_list[0].item(), \\\n",
    "                    self.RMSD_list[0].item(), self.MSSD_list[0].item(), self.SEN_list[0].item(), self.SPE_list[0].item()\n",
    "    \n",
    "    def all_calculation(self):\n",
    "        print(\"######### Start! ######### \")\n",
    "        self.cal_DC_and_DG()\n",
    "        self.cal_Jaccard_and_VOE()\n",
    "        self.cal_RVD_and_RAVD()\n",
    "        self.cal_ASSD()\n",
    "        self.cal_RMSD()\n",
    "        self.cal_MSSD()\n",
    "        self.cal_CONFUSION_MATRIX()\n",
    "        print(\"######### Done! ######### \")\n",
    "    \n",
    "    ############### Refereces by Monai\n",
    "    def compute_root_mean_surface_distance(\n",
    "        self,\n",
    "        include_background = False,\n",
    "        symmetric = True,\n",
    "        distance_metric = \"euclidean\",\n",
    "        spacing = None):\n",
    "\n",
    "        if not include_background:\n",
    "            y_pred, y = ignore_background(y_pred=self.pred, y=self.gt)\n",
    "        else:\n",
    "            y_pred, y = self.pred.copy(), self.gt.copy()\n",
    "\n",
    "        y_pred = convert_data_type(y_pred, output_type=torch.Tensor, dtype=torch.float)[0]\n",
    "        y = convert_data_type(y, output_type=torch.Tensor, dtype=torch.float)[0]\n",
    "\n",
    "        if y.shape != y_pred.shape:\n",
    "            raise ValueError(f\"y_pred and y should have same shapes, got {y_pred.shape} and {y.shape}.\")\n",
    "\n",
    "        batch_size, n_class = y_pred.shape[:2]\n",
    "        asd = torch.empty((batch_size, n_class), dtype=torch.float32, device=y_pred.device)\n",
    "\n",
    "        img_dim = y_pred.ndim - 2\n",
    "        spacing_list = prepare_spacing(spacing=spacing, batch_size=batch_size, img_dim=img_dim)\n",
    "\n",
    "        for b, c in np.ndindex(batch_size, n_class):\n",
    "            _, distances, _ = self.get_edge_surface_distance(\n",
    "                y_pred[b, c],\n",
    "                y[b, c],\n",
    "                distance_metric=distance_metric,\n",
    "                spacing=spacing_list[b],\n",
    "                symmetric=symmetric,\n",
    "                class_index=c,\n",
    "            )\n",
    "            surface_distance = torch.cat(distances)\n",
    "            asd[b, c] = torch.tensor(np.nan) if surface_distance.shape == (0,) else torch.sqrt(torch.mean((surface_distance)**2))\n",
    "            \n",
    "        return convert_data_type(asd, output_type=torch.Tensor, device=y_pred.device, dtype=torch.float)[0]\n",
    "    \n",
    "    # Make MSSD\n",
    "    def compute_maximum_surface_distance(\n",
    "        self,\n",
    "        include_background = False,\n",
    "        symmetric = True,\n",
    "        distance_metric = \"euclidean\",\n",
    "        spacing = None):\n",
    "\n",
    "        if not include_background:\n",
    "            y_pred, y = ignore_background(y_pred=self.pred, y=self.gt)\n",
    "        else:\n",
    "            y_pred, y = self.pred.copy(), self.gt.copy()\n",
    "\n",
    "        y_pred = convert_data_type(y_pred, output_type=torch.Tensor, dtype=torch.float)[0]\n",
    "        y = convert_data_type(y, output_type=torch.Tensor, dtype=torch.float)[0]\n",
    "\n",
    "        if y.shape != y_pred.shape:\n",
    "            raise ValueError(f\"y_pred and y should have same shapes, got {y_pred.shape} and {y.shape}.\")\n",
    "\n",
    "        batch_size, n_class = y_pred.shape[:2]\n",
    "        asd = torch.empty((batch_size, n_class), dtype=torch.float32, device=y_pred.device)\n",
    "\n",
    "        img_dim = y_pred.ndim - 2\n",
    "        spacing_list = prepare_spacing(spacing=spacing, batch_size=batch_size, img_dim=img_dim)\n",
    "\n",
    "        for b, c in np.ndindex(batch_size, n_class):\n",
    "            _, distances, _ = self.get_edge_surface_distance(\n",
    "                y_pred[b, c],\n",
    "                y[b, c],\n",
    "                distance_metric=distance_metric,\n",
    "                spacing=spacing_list[b],\n",
    "                symmetric=symmetric,\n",
    "                class_index=c,\n",
    "            )\n",
    "            surface_distance = torch.cat(distances)\n",
    "            asd[b, c] = torch.tensor(np.nan) if surface_distance.shape == (0,) else max(surface_distance)\n",
    "            \n",
    "        return convert_data_type(asd, output_type=torch.Tensor, device=y_pred.device, dtype=torch.float)[0]\n",
    "    \n",
    "    # get_edge_surface_distance\n",
    "    def get_edge_surface_distance(\n",
    "        self,\n",
    "        y_pred,\n",
    "        y,\n",
    "        distance_metric = \"euclidean\",\n",
    "        spacing: \"int | float | np.ndarray | Sequence[int | float] | None\" = None,\n",
    "        use_subvoxels: bool = False,\n",
    "        symmetric: bool = False,\n",
    "        class_index: int = -1):\n",
    "        \n",
    "        edges_spacing = None\n",
    "        if use_subvoxels:\n",
    "            edges_spacing = spacing if spacing is not None else ([1] * len(y_pred.shape))\n",
    "        \n",
    "        (edges_pred, edges_gt, *areas) = get_mask_edges(y_pred, y, crop=True, spacing=edges_spacing, always_return_as_numpy=False)\n",
    "        \n",
    "        if symmetric:\n",
    "            distances = (\n",
    "                get_surface_distance(edges_pred, edges_gt, distance_metric, spacing),\n",
    "                get_surface_distance(edges_gt, edges_pred, distance_metric, spacing),\n",
    "            )  # type: ignore\n",
    "        else:\n",
    "            distances = (get_surface_distance(edges_pred, edges_gt, distance_metric, spacing),)  # type: ignore\n",
    "            \n",
    "        return convert_to_tensor(((edges_pred, edges_gt), distances, tuple(areas)), device=y_pred.device)  # type: ignore[no-any-return]"
   ]
  },
  {
   "cell_type": "code",
   "execution_count": 3,
   "id": "f171ac6e",
   "metadata": {},
   "outputs": [],
   "source": [
    "# calculation function\n",
    "def calculation_all_metric(GT, PRED):\n",
    "    metric = Metric(GT, PRED)\n",
    "    metric.all_calculation()\n",
    "    metric.print_metric()\n",
    "    \n",
    "    return metric.save_metric()"
   ]
  },
  {
   "cell_type": "code",
   "execution_count": 4,
   "id": "d4ab89a4",
   "metadata": {},
   "outputs": [],
   "source": [
    "def remove_all_but_the_largest_connected_component(image: np.ndarray, for_which_classes: list, volume_per_voxel: float,\n",
    "                                                   minimum_valid_object_size: dict = None):\n",
    "    \"\"\"\n",
    "    removes all but the largest connected component, individually for each class\n",
    "    :param image:\n",
    "    :param for_which_classes: can be None. Should be list of int. Can also be something like [(1, 2), 2, 4].\n",
    "    Here (1, 2) will be treated as a joint region, not individual classes (example LiTS here we can use (1, 2)\n",
    "    to use all foreground classes together)\n",
    "    :param minimum_valid_object_size: Only objects larger than minimum_valid_object_size will be removed. Keys in\n",
    "    minimum_valid_object_size must match entries in for_which_classes\n",
    "    :return:\n",
    "    \"\"\"\n",
    "    if for_which_classes is None:\n",
    "        for_which_classes = np.unique(image)\n",
    "        for_which_classes = for_which_classes[for_which_classes > 0]\n",
    "\n",
    "    assert 0 not in for_which_classes, \"cannot remove background\"\n",
    "    largest_removed = {}\n",
    "    kept_size = {}\n",
    "    for c in for_which_classes:\n",
    "        if isinstance(c, (list, tuple)):\n",
    "            c = tuple(c)  # otherwise it cant be used as key in the dict\n",
    "            mask = np.zeros_like(image, dtype=bool)\n",
    "            for cl in c:\n",
    "                mask[image == cl] = True\n",
    "        else:\n",
    "            mask = image == c\n",
    "        # get labelmap and number of objects\n",
    "        lmap, num_objects = ndimage.label(mask.astype(int))\n",
    "\n",
    "        # collect object sizes\n",
    "        object_sizes = {}\n",
    "        for object_id in range(1, num_objects + 1):\n",
    "            object_sizes[object_id] = (lmap == object_id).sum() * volume_per_voxel\n",
    "\n",
    "        largest_removed[c] = None\n",
    "        kept_size[c] = None\n",
    "\n",
    "        if num_objects > 0:\n",
    "            # we always keep the largest object. We could also consider removing the largest object if it is smaller\n",
    "            # than minimum_valid_object_size in the future but we don't do that now.\n",
    "            maximum_size = max(object_sizes.values())\n",
    "            kept_size[c] = maximum_size\n",
    "\n",
    "            for object_id in range(1, num_objects + 1):\n",
    "                # we only remove objects that are not the largest\n",
    "                if object_sizes[object_id] != maximum_size:\n",
    "                    # we only remove objects that are smaller than minimum_valid_object_size\n",
    "                    remove = True\n",
    "                    if minimum_valid_object_size is not None:\n",
    "                        remove = object_sizes[object_id] < minimum_valid_object_size[c]\n",
    "                    if remove:\n",
    "                        image[(lmap == object_id) & mask] = 0\n",
    "                        if largest_removed[c] is None:\n",
    "                            largest_removed[c] = object_sizes[object_id]\n",
    "                        else:\n",
    "                            largest_removed[c] = max(largest_removed[c], object_sizes[object_id])\n",
    "    return image, largest_removed, kept_size"
   ]
  },
  {
   "cell_type": "code",
   "execution_count": 5,
   "id": "31f1e50f",
   "metadata": {},
   "outputs": [],
   "source": [
    "def post_processing(pred, threshold1=100, threshold2=80):\n",
    "    \n",
    "    # threshold2 너무 작은 예측값\n",
    "    # threshold1 작은 예측값\n",
    "    \n",
    "    # CCL\n",
    "    pred_label = ndimage.label(pred)\n",
    "    pred_label = pred_label[0]\n",
    "    print(np.unique(pred_label))\n",
    "    \n",
    "    \n",
    "    # 각 component에 대해서\n",
    "    post_pred = np.zeros(pred.shape)\n",
    "    pred_list = [np.where(pred_label==u, 1, 0) for u in np.unique(pred_label)[1:]]\n",
    "    for pred_array in pred_list:\n",
    "        #print('개수:', pred_array.sum())\n",
    "        if (pred_array.sum() < threshold2): # 너무 작은 예측값\n",
    "            pred_array = binary_dilation(pred_array, iterations=1)\n",
    "        elif (pred_array.sum() < threshold1): # 작은 예측값\n",
    "            pred_array = binary_dilation(pred_array, iterations=2)\n",
    "        post_pred += pred_array\n",
    "        \n",
    "    post_pred = np.where(post_pred>=1, 1, 0)\n",
    "    \n",
    "    return post_pred"
   ]
  },
  {
   "cell_type": "code",
   "execution_count": 14,
   "id": "55e10cdf",
   "metadata": {},
   "outputs": [
    {
     "name": "stdout",
     "output_type": "stream",
     "text": [
      "Dataset names(3Dircadb, LiTS):LiTS\n",
      "Extension: .nii\n",
      "16\n"
     ]
    }
   ],
   "source": [
    "# define path (설정)\n",
    "data = input(\"Dataset names(3Dircadb, LiTS):\")\n",
    "if data in ['3Dircadb', 'LiTS']:\n",
    "    if data == 'LiTS':\n",
    "        extension = '.nii'\n",
    "    elif data == '3Dircadb':\n",
    "        extension = '.nii.gz'\n",
    "    else:\n",
    "        extension = '.mhd'\n",
    "    print(\"Extension:\", extension)\n",
    "gt_folder = './DATASET_Synapse/unetr_pp_raw/unetr_pp_raw_data/Task02_Synapse/Task002_Synapse/seg_gt/'+data+'/'\n",
    "pred_folder = './output_synapse/3d_fullres/Task002_Synapse/unetr_pp_trainer_synapse__unetr_pp_Plansv2.1/fold_4/validation_raw/'\n",
    "# 256x256\n",
    "\n",
    "# make nii files\n",
    "flag_post = True\n",
    "pred_name = os.listdir(pred_folder)\n",
    "pred_name = [nii for nii in pred_name if '.nii' in nii]\n",
    "print(len(pred_name)) # LiTS: 20\n",
    "\n",
    "# 기타 변수 (rotation 안 되어 있다면 활용)\n",
    "tmp_lst=['volume-15.nii', 'volume-18.nii', 'volume-28.nii', 'volume-3.nii', 'volume-33.nii', 'volume-37.nii', 'volume-42.nii', 'volume-47.nii', 'volume-5.nii', 'volume-54.nii', 'volume-70.nii', 'volume-73.nii', 'volume-80.nii', 'volume-17.nii', 'volume-43.nii', 'volume-77.nii' ]"
   ]
  },
  {
   "cell_type": "code",
   "execution_count": 15,
   "id": "43066a55",
   "metadata": {},
   "outputs": [
    {
     "data": {
      "text/plain": [
       "['volume-100.nii',\n",
       " 'volume-104.nii',\n",
       " 'volume-110.nii',\n",
       " 'volume-123.nii',\n",
       " 'volume-17.nii',\n",
       " 'volume-18.nii',\n",
       " 'volume-28.nii',\n",
       " 'volume-3.nii',\n",
       " 'volume-33.nii',\n",
       " 'volume-37.nii',\n",
       " 'volume-43.nii',\n",
       " 'volume-64.nii',\n",
       " 'volume-70.nii',\n",
       " 'volume-77.nii',\n",
       " 'volume-80.nii',\n",
       " 'volume-90.nii']"
      ]
     },
     "execution_count": 15,
     "metadata": {},
     "output_type": "execute_result"
    }
   ],
   "source": [
    "pred_name"
   ]
  },
  {
   "cell_type": "code",
   "execution_count": 16,
   "id": "d4795074",
   "metadata": {
    "scrolled": true
   },
   "outputs": [
    {
     "name": "stderr",
     "output_type": "stream",
     "text": [
      "  0%|                                                                                           | 0/16 [00:00<?, ?it/s]Call to deprecated function (or staticmethod) data. (Setting the image data with the property setter is deprecated. Use the set_data() method instead) -- Deprecated since version 0.18.16.\n"
     ]
    },
    {
     "name": "stdout",
     "output_type": "stream",
     "text": [
      "[ 0  1  2  3  4  5  6  7  8  9 10 11 12 13 14 15]\n",
      "######### Start! ######### \n"
     ]
    },
    {
     "name": "stderr",
     "output_type": "stream",
     "text": [
      "\r",
      "  6%|█████▏                                                                             | 1/16 [00:07<01:58,  7.92s/it]"
     ]
    },
    {
     "name": "stdout",
     "output_type": "stream",
     "text": [
      "######### Done! ######### \n",
      "DC score(upper): 0.8999922615320759\n",
      "Jaccard score(upper): 0.8181690274157281\n",
      "VOE score(lower): 0.18183097258427194\n",
      "RAVD score(lower): 0.12828528088822408\n",
      "ASSD score(lower): 1.7040749788284302\n",
      "RMSD score(lower): 2.707754135131836\n",
      "MSSD score(lower): 15.68438720703125\n",
      "SEN score(upper): 0.9662156105041504\n",
      "SPE score(upper): 0.9986558556556702\n",
      "[ 0  1  2  3  4  5  6  7  8  9 10 11]\n",
      "######### Start! ######### \n"
     ]
    },
    {
     "name": "stderr",
     "output_type": "stream",
     "text": [
      "\r",
      " 12%|██████████▍                                                                        | 2/16 [00:16<01:56,  8.30s/it]"
     ]
    },
    {
     "name": "stdout",
     "output_type": "stream",
     "text": [
      "######### Done! ######### \n",
      "DC score(upper): 0.8829827240842076\n",
      "Jaccard score(upper): 0.7904826031990326\n",
      "VOE score(lower): 0.20951739680096737\n",
      "RAVD score(lower): 4.604758250191865e-05\n",
      "ASSD score(lower): 2.2893457412719727\n",
      "RMSD score(lower): 5.693765163421631\n",
      "MSSD score(lower): 53.749420166015625\n",
      "SEN score(upper): 0.8830030560493469\n",
      "SPE score(upper): 0.999850869178772\n"
     ]
    },
    {
     "name": "stderr",
     "output_type": "stream",
     "text": [
      "Call to deprecated function (or staticmethod) data. (Setting the image data with the property setter is deprecated. Use the set_data() method instead) -- Deprecated since version 0.18.16.\n"
     ]
    },
    {
     "name": "stdout",
     "output_type": "stream",
     "text": [
      "[ 0  1  2  3  4  5  6  7  8  9 10 11 12 13 14 15 16 17]\n",
      "######### Start! ######### \n"
     ]
    },
    {
     "name": "stderr",
     "output_type": "stream",
     "text": [
      "\r",
      " 19%|███████████████▌                                                                   | 3/16 [00:25<01:54,  8.82s/it]"
     ]
    },
    {
     "name": "stdout",
     "output_type": "stream",
     "text": [
      "######### Done! ######### \n",
      "DC score(upper): 0.7962915882781648\n",
      "Jaccard score(upper): 0.6615319628273726\n",
      "VOE score(lower): 0.3384680371726274\n",
      "RAVD score(lower): 0.10147456902692692\n",
      "ASSD score(lower): 1.3682239055633545\n",
      "RMSD score(lower): 2.8759400844573975\n",
      "MSSD score(lower): 28.861740112304688\n",
      "SEN score(upper): 0.759611964225769\n",
      "SPE score(upper): 0.9999141693115234\n"
     ]
    },
    {
     "name": "stderr",
     "output_type": "stream",
     "text": [
      "Call to deprecated function (or staticmethod) data. (Setting the image data with the property setter is deprecated. Use the set_data() method instead) -- Deprecated since version 0.18.16.\n"
     ]
    },
    {
     "name": "stdout",
     "output_type": "stream",
     "text": [
      "[0 1 2 3 4 5 6 7 8]\n",
      "######### Start! ######### \n"
     ]
    },
    {
     "name": "stderr",
     "output_type": "stream",
     "text": [
      "\r",
      " 25%|████████████████████▊                                                              | 4/16 [00:29<01:23,  6.93s/it]"
     ]
    },
    {
     "name": "stdout",
     "output_type": "stream",
     "text": [
      "######### Done! ######### \n",
      "DC score(upper): 0.8752394866456122\n",
      "Jaccard score(upper): 0.7781563063903927\n",
      "VOE score(lower): 0.22184369360960732\n",
      "RAVD score(lower): 0.12632538412887384\n",
      "ASSD score(lower): 1.0174329280853271\n",
      "RMSD score(lower): 1.3513569831848145\n",
      "MSSD score(lower): 8.124038696289062\n",
      "SEN score(upper): 0.8261573314666748\n",
      "SPE score(upper): 0.9998677372932434\n"
     ]
    },
    {
     "name": "stderr",
     "output_type": "stream",
     "text": [
      "Call to deprecated function (or staticmethod) data. (Setting the image data with the property setter is deprecated. Use the set_data() method instead) -- Deprecated since version 0.18.16.\n"
     ]
    },
    {
     "name": "stdout",
     "output_type": "stream",
     "text": [
      "[0 1 2 3 4 5 6]\n",
      "######### Start! ######### \n"
     ]
    },
    {
     "name": "stderr",
     "output_type": "stream",
     "text": [
      "\r",
      " 31%|█████████████████████████▉                                                         | 5/16 [00:37<01:17,  7.04s/it]"
     ]
    },
    {
     "name": "stdout",
     "output_type": "stream",
     "text": [
      "######### Done! ######### \n",
      "DC score(upper): 0.8726708074534162\n",
      "Jaccard score(upper): 0.7741046831955923\n",
      "VOE score(lower): 0.22589531680440766\n",
      "RAVD score(lower): 0.1099381143065162\n",
      "ASSD score(lower): 1.0773652791976929\n",
      "RMSD score(lower): 6.6724042892456055\n",
      "MSSD score(lower): 112.16505432128906\n",
      "SEN score(upper): 0.8294522762298584\n",
      "SPE score(upper): 0.9999879598617554\n"
     ]
    },
    {
     "name": "stderr",
     "output_type": "stream",
     "text": [
      "Call to deprecated function (or staticmethod) data. (Setting the image data with the property setter is deprecated. Use the set_data() method instead) -- Deprecated since version 0.18.16.\n"
     ]
    },
    {
     "name": "stdout",
     "output_type": "stream",
     "text": [
      "[0 1 2 3 4 5]\n",
      "######### Start! ######### \n"
     ]
    },
    {
     "name": "stderr",
     "output_type": "stream",
     "text": [
      "\r",
      " 38%|███████████████████████████████▏                                                   | 6/16 [00:44<01:10,  7.02s/it]"
     ]
    },
    {
     "name": "stdout",
     "output_type": "stream",
     "text": [
      "######### Done! ######### \n",
      "DC score(upper): 0.7184203408168786\n",
      "Jaccard score(upper): 0.5605740818910933\n",
      "VOE score(lower): 0.43942591810890674\n",
      "RAVD score(lower): 0.14407630522088352\n",
      "ASSD score(lower): 0.810909628868103\n",
      "RMSD score(lower): 1.0446832180023193\n",
      "MSSD score(lower): 4.242640495300293\n",
      "SEN score(upper): 0.7788856029510498\n",
      "SPE score(upper): 0.9999880194664001\n"
     ]
    },
    {
     "name": "stderr",
     "output_type": "stream",
     "text": [
      "Call to deprecated function (or staticmethod) data. (Setting the image data with the property setter is deprecated. Use the set_data() method instead) -- Deprecated since version 0.18.16.\n"
     ]
    },
    {
     "name": "stdout",
     "output_type": "stream",
     "text": [
      "[0 1 2 3 4 5 6]\n",
      "######### Start! ######### \n"
     ]
    },
    {
     "name": "stderr",
     "output_type": "stream",
     "text": [
      "\r",
      " 44%|████████████████████████████████████▎                                              | 7/16 [00:45<00:46,  5.16s/it]"
     ]
    },
    {
     "name": "stdout",
     "output_type": "stream",
     "text": [
      "######### Done! ######### \n",
      "DC score(upper): 0.9014469238747574\n",
      "Jaccard score(upper): 0.8205765779240204\n",
      "VOE score(lower): 0.1794234220759796\n",
      "RAVD score(lower): 0.09273948723975164\n",
      "ASSD score(lower): 1.3336615562438965\n",
      "RMSD score(lower): 3.577535390853882\n",
      "MSSD score(lower): 37.947330474853516\n",
      "SEN score(upper): 0.9475195407867432\n",
      "SPE score(upper): 0.9991477131843567\n"
     ]
    },
    {
     "name": "stderr",
     "output_type": "stream",
     "text": [
      "Call to deprecated function (or staticmethod) data. (Setting the image data with the property setter is deprecated. Use the set_data() method instead) -- Deprecated since version 0.18.16.\n"
     ]
    },
    {
     "name": "stdout",
     "output_type": "stream",
     "text": [
      "[0 1]\n",
      "######### Start! ######### \n"
     ]
    },
    {
     "name": "stderr",
     "output_type": "stream",
     "text": [
      "\r",
      " 50%|█████████████████████████████████████████▌                                         | 8/16 [00:49<00:37,  4.66s/it]"
     ]
    },
    {
     "name": "stdout",
     "output_type": "stream",
     "text": [
      "######### Done! ######### \n",
      "DC score(upper): 0.8448844884488449\n",
      "Jaccard score(upper): 0.7314285714285714\n",
      "VOE score(lower): 0.26857142857142857\n",
      "RAVD score(lower): 0.10051993067590988\n",
      "ASSD score(lower): 0.5433255434036255\n",
      "RMSD score(lower): 0.762492835521698\n",
      "MSSD score(lower): 1.7320507764816284\n",
      "SEN score(upper): 0.8062992095947266\n",
      "SPE score(upper): 0.999998152256012\n"
     ]
    },
    {
     "name": "stderr",
     "output_type": "stream",
     "text": [
      "Call to deprecated function (or staticmethod) data. (Setting the image data with the property setter is deprecated. Use the set_data() method instead) -- Deprecated since version 0.18.16.\n"
     ]
    },
    {
     "name": "stdout",
     "output_type": "stream",
     "text": [
      "[ 0  1  2  3  4  5  6  7  8  9 10 11 12 13 14 15 16 17 18]\n",
      "######### Start! ######### \n"
     ]
    },
    {
     "name": "stderr",
     "output_type": "stream",
     "text": [
      "\r",
      " 56%|██████████████████████████████████████████████▋                                    | 9/16 [00:51<00:26,  3.83s/it]"
     ]
    },
    {
     "name": "stdout",
     "output_type": "stream",
     "text": [
      "######### Done! ######### \n",
      "DC score(upper): 0.7033430951203743\n",
      "Jaccard score(upper): 0.5424280644120494\n",
      "VOE score(lower): 0.4575719355879506\n",
      "RAVD score(lower): 0.451819939351711\n",
      "ASSD score(lower): 2.3361377716064453\n",
      "RMSD score(lower): 3.3877484798431396\n",
      "MSSD score(lower): 20.542638778686523\n",
      "SEN score(upper): 0.9931971430778503\n",
      "SPE score(upper): 0.994719922542572\n"
     ]
    },
    {
     "name": "stderr",
     "output_type": "stream",
     "text": [
      "Call to deprecated function (or staticmethod) data. (Setting the image data with the property setter is deprecated. Use the set_data() method instead) -- Deprecated since version 0.18.16.\n"
     ]
    },
    {
     "name": "stdout",
     "output_type": "stream",
     "text": [
      "[0 1 2 3 4 5 6]\n",
      "######### Start! ######### \n"
     ]
    },
    {
     "name": "stderr",
     "output_type": "stream",
     "text": [
      "\r",
      " 62%|███████████████████████████████████████████████████▎                              | 10/16 [00:52<00:17,  2.99s/it]"
     ]
    },
    {
     "name": "stdout",
     "output_type": "stream",
     "text": [
      "######### Done! ######### \n",
      "DC score(upper): 0.8459165448936515\n",
      "Jaccard score(upper): 0.73297692740574\n",
      "VOE score(lower): 0.26702307259425995\n",
      "RAVD score(lower): 0.1107361963190184\n",
      "ASSD score(lower): 2.362074375152588\n",
      "RMSD score(lower): 8.464478492736816\n",
      "MSSD score(lower): 41.35214614868164\n",
      "SEN score(upper): 0.8985857367515564\n",
      "SPE score(upper): 0.9999180436134338\n"
     ]
    },
    {
     "name": "stderr",
     "output_type": "stream",
     "text": [
      "Call to deprecated function (or staticmethod) data. (Setting the image data with the property setter is deprecated. Use the set_data() method instead) -- Deprecated since version 0.18.16.\n"
     ]
    },
    {
     "name": "stdout",
     "output_type": "stream",
     "text": [
      "[0 1]\n",
      "######### Start! ######### \n"
     ]
    },
    {
     "name": "stderr",
     "output_type": "stream",
     "text": [
      "\r",
      " 69%|████████████████████████████████████████████████████████▍                         | 11/16 [00:53<00:11,  2.39s/it]"
     ]
    },
    {
     "name": "stdout",
     "output_type": "stream",
     "text": [
      "######### Done! ######### \n",
      "DC score(upper): 0.8842821782178217\n",
      "Jaccard score(upper): 0.7925679423183583\n",
      "VOE score(lower): 0.20743205768164175\n",
      "RAVD score(lower): 0.0611877624475105\n",
      "ASSD score(lower): 0.5975635647773743\n",
      "RMSD score(lower): 0.8216990828514099\n",
      "MSSD score(lower): 2.0\n",
      "SEN score(upper): 0.9130990505218506\n",
      "SPE score(upper): 0.9999765753746033\n"
     ]
    },
    {
     "name": "stderr",
     "output_type": "stream",
     "text": [
      "Call to deprecated function (or staticmethod) data. (Setting the image data with the property setter is deprecated. Use the set_data() method instead) -- Deprecated since version 0.18.16.\n"
     ]
    },
    {
     "name": "stdout",
     "output_type": "stream",
     "text": [
      "[0 1]\n",
      "######### Start! ######### \n"
     ]
    },
    {
     "name": "stderr",
     "output_type": "stream",
     "text": [
      "\r",
      " 75%|█████████████████████████████████████████████████████████████▌                    | 12/16 [00:54<00:08,  2.11s/it]"
     ]
    },
    {
     "name": "stdout",
     "output_type": "stream",
     "text": [
      "######### Done! ######### \n",
      "DC score(upper): 0.9575415228331997\n",
      "Jaccard score(upper): 0.9185416434385104\n",
      "VOE score(lower): 0.08145835656148959\n",
      "RAVD score(lower): 0.014973582816141015\n",
      "ASSD score(lower): 0.6438089609146118\n",
      "RMSD score(lower): 0.8748939037322998\n",
      "MSSD score(lower): 3.0\n",
      "SEN score(upper): 0.9648194313049316\n",
      "SPE score(upper): 0.9998568892478943\n"
     ]
    },
    {
     "name": "stderr",
     "output_type": "stream",
     "text": [
      "Call to deprecated function (or staticmethod) data. (Setting the image data with the property setter is deprecated. Use the set_data() method instead) -- Deprecated since version 0.18.16.\n"
     ]
    },
    {
     "name": "stdout",
     "output_type": "stream",
     "text": [
      "[0 1 2 3]\n",
      "######### Start! ######### \n"
     ]
    },
    {
     "name": "stderr",
     "output_type": "stream",
     "text": [
      "\r",
      " 81%|██████████████████████████████████████████████████████████████████▋               | 13/16 [00:57<00:06,  2.30s/it]"
     ]
    },
    {
     "name": "stdout",
     "output_type": "stream",
     "text": [
      "######### Done! ######### \n",
      "DC score(upper): 0.8967550521542796\n",
      "Jaccard score(upper): 0.8128340437047561\n",
      "VOE score(lower): 0.1871659562952439\n",
      "RAVD score(lower): 0.13213202746505873\n",
      "ASSD score(lower): 1.7488820552825928\n",
      "RMSD score(lower): 7.786776065826416\n",
      "MSSD score(lower): 70.73188781738281\n",
      "SEN score(upper): 0.9650200605392456\n",
      "SPE score(upper): 0.9997861385345459\n"
     ]
    },
    {
     "name": "stderr",
     "output_type": "stream",
     "text": [
      "Call to deprecated function (or staticmethod) data. (Setting the image data with the property setter is deprecated. Use the set_data() method instead) -- Deprecated since version 0.18.16.\n"
     ]
    },
    {
     "name": "stdout",
     "output_type": "stream",
     "text": [
      "[0 1 2]\n"
     ]
    },
    {
     "name": "stderr",
     "output_type": "stream",
     "text": [
      "\r",
      " 88%|███████████████████████████████████████████████████████████████████████▊          | 14/16 [00:58<00:03,  1.85s/it]"
     ]
    },
    {
     "name": "stdout",
     "output_type": "stream",
     "text": [
      "######### Start! ######### \n",
      "######### Done! ######### \n",
      "DC score(upper): 0.7290803645401823\n",
      "Jaccard score(upper): 0.5736636245110821\n",
      "VOE score(lower): 0.4263363754889179\n",
      "RAVD score(lower): 0.5067497403946002\n",
      "ASSD score(lower): 0.7249302864074707\n",
      "RMSD score(lower): 1.027862310409546\n",
      "MSSD score(lower): 5.196152210235596\n",
      "SEN score(upper): 0.6064782738685608\n",
      "SPE score(upper): 0.9999865293502808\n"
     ]
    },
    {
     "name": "stderr",
     "output_type": "stream",
     "text": [
      "Call to deprecated function (or staticmethod) data. (Setting the image data with the property setter is deprecated. Use the set_data() method instead) -- Deprecated since version 0.18.16.\n"
     ]
    },
    {
     "name": "stdout",
     "output_type": "stream",
     "text": [
      "[0 1 2 3]\n",
      "######### Start! ######### \n"
     ]
    },
    {
     "name": "stderr",
     "output_type": "stream",
     "text": [
      "\r",
      " 94%|████████████████████████████████████████████████████████████████████████████▉     | 15/16 [01:00<00:01,  1.90s/it]"
     ]
    },
    {
     "name": "stdout",
     "output_type": "stream",
     "text": [
      "######### Done! ######### \n",
      "DC score(upper): 0.9265573924699574\n",
      "Jaccard score(upper): 0.8631643517504272\n",
      "VOE score(lower): 0.13683564824957284\n",
      "RAVD score(lower): 0.013208976422687245\n",
      "ASSD score(lower): 0.7608542442321777\n",
      "RMSD score(lower): 1.5282161235809326\n",
      "MSSD score(lower): 33.778690338134766\n",
      "SEN score(upper): 0.9205177426338196\n",
      "SPE score(upper): 0.9998998641967773\n"
     ]
    },
    {
     "name": "stderr",
     "output_type": "stream",
     "text": [
      "Call to deprecated function (or staticmethod) data. (Setting the image data with the property setter is deprecated. Use the set_data() method instead) -- Deprecated since version 0.18.16.\n"
     ]
    },
    {
     "name": "stdout",
     "output_type": "stream",
     "text": [
      "[0 1 2 3 4 5 6 7 8 9]\n",
      "######### Start! ######### \n"
     ]
    },
    {
     "name": "stderr",
     "output_type": "stream",
     "text": [
      "100%|██████████████████████████████████████████████████████████████████████████████████| 16/16 [01:08<00:00,  4.26s/it]"
     ]
    },
    {
     "name": "stdout",
     "output_type": "stream",
     "text": [
      "######### Done! ######### \n",
      "DC score(upper): 0.7611366216513886\n",
      "Jaccard score(upper): 0.6143830183001887\n",
      "VOE score(lower): 0.3856169816998113\n",
      "RAVD score(lower): 0.03738737183691787\n",
      "ASSD score(lower): 1.753248929977417\n",
      "RMSD score(lower): 2.44490122795105\n",
      "MSSD score(lower): 14.177447319030762\n",
      "SEN score(upper): 0.7474209666252136\n",
      "SPE score(upper): 0.9997352957725525\n"
     ]
    },
    {
     "name": "stderr",
     "output_type": "stream",
     "text": [
      "\n"
     ]
    }
   ],
   "source": [
    "metric_df = pd.DataFrame(columns=['LiTS_id', 'DC', 'Jaccard', 'VOE', 'RAVD', 'ASSD', 'RMSD', 'MSSD', 'SEN', 'SPE'])\n",
    "\n",
    "for i in tqdm(range(len(pred_name))):\n",
    "\n",
    "    #i=2\n",
    "    #print(pred_name[i])\n",
    "\n",
    "    resize = tio.Resize((256, 256, -1))\n",
    "    pred = tio.ScalarImage(os.path.join(pred_folder, pred_name[i]))\n",
    "    gt = tio.ScalarImage(os.path.join(gt_folder, pred_name[i].replace('volume', 'segmentation')))\n",
    "\n",
    "    gt.data = np.where(gt.data >= 2, 1, 0)\n",
    "    #if len(np.unique(gt)) != 2: # error check\n",
    "    #    raise Exception(\"No label\")\n",
    "\n",
    "    pred = np.array(pred)\n",
    "    pred = pred[0]\n",
    "    if flag_post: # post-processing\n",
    "        pred = post_processing(pred)\n",
    "        #if pred.sum() < 100: # 너무 작은 예측값\n",
    "        #    pred = binary_dilation(pred, iterations=2)\n",
    "\n",
    "    gt = np.array(gt)\n",
    "    gt = resize(gt)\n",
    "    gt = np.transpose(gt[0], (2,1,0))\n",
    "    if pred_name[i] in tmp_lst:\n",
    "    #if True: # 3Dircard\n",
    "        gt = torch.flip(torch.Tensor(gt),(2,))\n",
    "        gt = np.array(gt)\n",
    "    pred = pred[np.newaxis, np.newaxis, ]\n",
    "    gt = gt[np.newaxis, np.newaxis, ]\n",
    "\n",
    "    # calculation metric\n",
    "    dc, jac, voe, ravd, assd, rmsd, mssd, sen, spe = calculation_all_metric(pred, gt)\n",
    "\n",
    "    # save\n",
    "    if dc != 0.0:\n",
    "        metric_df.loc[i] = [pred_name[i], dc, jac, voe, ravd, assd, rmsd, mssd, sen, spe]\n",
    "    else:\n",
    "        metric_df.loc[i] = np.nan"
   ]
  },
  {
   "cell_type": "code",
   "execution_count": 17,
   "id": "48f41bd3",
   "metadata": {},
   "outputs": [
    {
     "name": "stderr",
     "output_type": "stream",
     "text": [
      "Dropping of nuisance columns in DataFrame reductions (with 'numeric_only=None') is deprecated; in a future version this will raise TypeError.  Select only valid columns before calling the reduction.\n"
     ]
    },
    {
     "data": {
      "text/plain": [
       "DC          0.843534\n",
       "Jaccard     0.736599\n",
       "VOE         0.263401\n",
       "RAVD        0.133225\n",
       "ASSD        1.316990\n",
       "RMSD        3.188907\n",
       "MSSD       28.330352\n",
       "SEN         0.862893\n",
       "SPE         0.999456\n",
       "dtype: float64"
      ]
     },
     "execution_count": 17,
     "metadata": {},
     "output_type": "execute_result"
    }
   ],
   "source": [
    "# show result\n",
    "metric_df.mean(axis=0)"
   ]
  },
  {
   "cell_type": "code",
   "execution_count": 18,
   "id": "b78ca378",
   "metadata": {},
   "outputs": [
    {
     "data": {
      "text/html": [
       "<div>\n",
       "<style scoped>\n",
       "    .dataframe tbody tr th:only-of-type {\n",
       "        vertical-align: middle;\n",
       "    }\n",
       "\n",
       "    .dataframe tbody tr th {\n",
       "        vertical-align: top;\n",
       "    }\n",
       "\n",
       "    .dataframe thead th {\n",
       "        text-align: right;\n",
       "    }\n",
       "</style>\n",
       "<table border=\"1\" class=\"dataframe\">\n",
       "  <thead>\n",
       "    <tr style=\"text-align: right;\">\n",
       "      <th></th>\n",
       "      <th>LiTS_id</th>\n",
       "      <th>DC</th>\n",
       "      <th>Jaccard</th>\n",
       "      <th>VOE</th>\n",
       "      <th>RAVD</th>\n",
       "      <th>ASSD</th>\n",
       "      <th>RMSD</th>\n",
       "      <th>MSSD</th>\n",
       "      <th>SEN</th>\n",
       "      <th>SPE</th>\n",
       "    </tr>\n",
       "  </thead>\n",
       "  <tbody>\n",
       "    <tr>\n",
       "      <th>0</th>\n",
       "      <td>volume-100.nii</td>\n",
       "      <td>0.899992</td>\n",
       "      <td>0.818169</td>\n",
       "      <td>0.181831</td>\n",
       "      <td>0.128285</td>\n",
       "      <td>1.704075</td>\n",
       "      <td>2.707754</td>\n",
       "      <td>15.684387</td>\n",
       "      <td>0.966216</td>\n",
       "      <td>0.998656</td>\n",
       "    </tr>\n",
       "    <tr>\n",
       "      <th>1</th>\n",
       "      <td>volume-104.nii</td>\n",
       "      <td>0.882983</td>\n",
       "      <td>0.790483</td>\n",
       "      <td>0.209517</td>\n",
       "      <td>0.000046</td>\n",
       "      <td>2.289346</td>\n",
       "      <td>5.693765</td>\n",
       "      <td>53.749420</td>\n",
       "      <td>0.883003</td>\n",
       "      <td>0.999851</td>\n",
       "    </tr>\n",
       "    <tr>\n",
       "      <th>2</th>\n",
       "      <td>volume-110.nii</td>\n",
       "      <td>0.796292</td>\n",
       "      <td>0.661532</td>\n",
       "      <td>0.338468</td>\n",
       "      <td>0.101475</td>\n",
       "      <td>1.368224</td>\n",
       "      <td>2.875940</td>\n",
       "      <td>28.861740</td>\n",
       "      <td>0.759612</td>\n",
       "      <td>0.999914</td>\n",
       "    </tr>\n",
       "    <tr>\n",
       "      <th>3</th>\n",
       "      <td>volume-123.nii</td>\n",
       "      <td>0.875239</td>\n",
       "      <td>0.778156</td>\n",
       "      <td>0.221844</td>\n",
       "      <td>0.126325</td>\n",
       "      <td>1.017433</td>\n",
       "      <td>1.351357</td>\n",
       "      <td>8.124039</td>\n",
       "      <td>0.826157</td>\n",
       "      <td>0.999868</td>\n",
       "    </tr>\n",
       "    <tr>\n",
       "      <th>4</th>\n",
       "      <td>volume-17.nii</td>\n",
       "      <td>0.872671</td>\n",
       "      <td>0.774105</td>\n",
       "      <td>0.225895</td>\n",
       "      <td>0.109938</td>\n",
       "      <td>1.077365</td>\n",
       "      <td>6.672404</td>\n",
       "      <td>112.165054</td>\n",
       "      <td>0.829452</td>\n",
       "      <td>0.999988</td>\n",
       "    </tr>\n",
       "    <tr>\n",
       "      <th>5</th>\n",
       "      <td>volume-18.nii</td>\n",
       "      <td>0.718420</td>\n",
       "      <td>0.560574</td>\n",
       "      <td>0.439426</td>\n",
       "      <td>0.144076</td>\n",
       "      <td>0.810910</td>\n",
       "      <td>1.044683</td>\n",
       "      <td>4.242640</td>\n",
       "      <td>0.778886</td>\n",
       "      <td>0.999988</td>\n",
       "    </tr>\n",
       "    <tr>\n",
       "      <th>6</th>\n",
       "      <td>volume-28.nii</td>\n",
       "      <td>0.901447</td>\n",
       "      <td>0.820577</td>\n",
       "      <td>0.179423</td>\n",
       "      <td>0.092739</td>\n",
       "      <td>1.333662</td>\n",
       "      <td>3.577535</td>\n",
       "      <td>37.947330</td>\n",
       "      <td>0.947520</td>\n",
       "      <td>0.999148</td>\n",
       "    </tr>\n",
       "    <tr>\n",
       "      <th>7</th>\n",
       "      <td>volume-3.nii</td>\n",
       "      <td>0.844884</td>\n",
       "      <td>0.731429</td>\n",
       "      <td>0.268571</td>\n",
       "      <td>0.100520</td>\n",
       "      <td>0.543326</td>\n",
       "      <td>0.762493</td>\n",
       "      <td>1.732051</td>\n",
       "      <td>0.806299</td>\n",
       "      <td>0.999998</td>\n",
       "    </tr>\n",
       "    <tr>\n",
       "      <th>8</th>\n",
       "      <td>volume-33.nii</td>\n",
       "      <td>0.703343</td>\n",
       "      <td>0.542428</td>\n",
       "      <td>0.457572</td>\n",
       "      <td>0.451820</td>\n",
       "      <td>2.336138</td>\n",
       "      <td>3.387748</td>\n",
       "      <td>20.542639</td>\n",
       "      <td>0.993197</td>\n",
       "      <td>0.994720</td>\n",
       "    </tr>\n",
       "    <tr>\n",
       "      <th>9</th>\n",
       "      <td>volume-37.nii</td>\n",
       "      <td>0.845917</td>\n",
       "      <td>0.732977</td>\n",
       "      <td>0.267023</td>\n",
       "      <td>0.110736</td>\n",
       "      <td>2.362074</td>\n",
       "      <td>8.464478</td>\n",
       "      <td>41.352146</td>\n",
       "      <td>0.898586</td>\n",
       "      <td>0.999918</td>\n",
       "    </tr>\n",
       "    <tr>\n",
       "      <th>10</th>\n",
       "      <td>volume-43.nii</td>\n",
       "      <td>0.884282</td>\n",
       "      <td>0.792568</td>\n",
       "      <td>0.207432</td>\n",
       "      <td>0.061188</td>\n",
       "      <td>0.597564</td>\n",
       "      <td>0.821699</td>\n",
       "      <td>2.000000</td>\n",
       "      <td>0.913099</td>\n",
       "      <td>0.999977</td>\n",
       "    </tr>\n",
       "    <tr>\n",
       "      <th>11</th>\n",
       "      <td>volume-64.nii</td>\n",
       "      <td>0.957542</td>\n",
       "      <td>0.918542</td>\n",
       "      <td>0.081458</td>\n",
       "      <td>0.014974</td>\n",
       "      <td>0.643809</td>\n",
       "      <td>0.874894</td>\n",
       "      <td>3.000000</td>\n",
       "      <td>0.964819</td>\n",
       "      <td>0.999857</td>\n",
       "    </tr>\n",
       "    <tr>\n",
       "      <th>12</th>\n",
       "      <td>volume-70.nii</td>\n",
       "      <td>0.896755</td>\n",
       "      <td>0.812834</td>\n",
       "      <td>0.187166</td>\n",
       "      <td>0.132132</td>\n",
       "      <td>1.748882</td>\n",
       "      <td>7.786776</td>\n",
       "      <td>70.731888</td>\n",
       "      <td>0.965020</td>\n",
       "      <td>0.999786</td>\n",
       "    </tr>\n",
       "    <tr>\n",
       "      <th>13</th>\n",
       "      <td>volume-77.nii</td>\n",
       "      <td>0.729080</td>\n",
       "      <td>0.573664</td>\n",
       "      <td>0.426336</td>\n",
       "      <td>0.506750</td>\n",
       "      <td>0.724930</td>\n",
       "      <td>1.027862</td>\n",
       "      <td>5.196152</td>\n",
       "      <td>0.606478</td>\n",
       "      <td>0.999987</td>\n",
       "    </tr>\n",
       "    <tr>\n",
       "      <th>14</th>\n",
       "      <td>volume-80.nii</td>\n",
       "      <td>0.926557</td>\n",
       "      <td>0.863164</td>\n",
       "      <td>0.136836</td>\n",
       "      <td>0.013209</td>\n",
       "      <td>0.760854</td>\n",
       "      <td>1.528216</td>\n",
       "      <td>33.778690</td>\n",
       "      <td>0.920518</td>\n",
       "      <td>0.999900</td>\n",
       "    </tr>\n",
       "    <tr>\n",
       "      <th>15</th>\n",
       "      <td>volume-90.nii</td>\n",
       "      <td>0.761137</td>\n",
       "      <td>0.614383</td>\n",
       "      <td>0.385617</td>\n",
       "      <td>0.037387</td>\n",
       "      <td>1.753249</td>\n",
       "      <td>2.444901</td>\n",
       "      <td>14.177447</td>\n",
       "      <td>0.747421</td>\n",
       "      <td>0.999735</td>\n",
       "    </tr>\n",
       "  </tbody>\n",
       "</table>\n",
       "</div>"
      ],
      "text/plain": [
       "           LiTS_id        DC   Jaccard       VOE      RAVD      ASSD  \\\n",
       "0   volume-100.nii  0.899992  0.818169  0.181831  0.128285  1.704075   \n",
       "1   volume-104.nii  0.882983  0.790483  0.209517  0.000046  2.289346   \n",
       "2   volume-110.nii  0.796292  0.661532  0.338468  0.101475  1.368224   \n",
       "3   volume-123.nii  0.875239  0.778156  0.221844  0.126325  1.017433   \n",
       "4    volume-17.nii  0.872671  0.774105  0.225895  0.109938  1.077365   \n",
       "5    volume-18.nii  0.718420  0.560574  0.439426  0.144076  0.810910   \n",
       "6    volume-28.nii  0.901447  0.820577  0.179423  0.092739  1.333662   \n",
       "7     volume-3.nii  0.844884  0.731429  0.268571  0.100520  0.543326   \n",
       "8    volume-33.nii  0.703343  0.542428  0.457572  0.451820  2.336138   \n",
       "9    volume-37.nii  0.845917  0.732977  0.267023  0.110736  2.362074   \n",
       "10   volume-43.nii  0.884282  0.792568  0.207432  0.061188  0.597564   \n",
       "11   volume-64.nii  0.957542  0.918542  0.081458  0.014974  0.643809   \n",
       "12   volume-70.nii  0.896755  0.812834  0.187166  0.132132  1.748882   \n",
       "13   volume-77.nii  0.729080  0.573664  0.426336  0.506750  0.724930   \n",
       "14   volume-80.nii  0.926557  0.863164  0.136836  0.013209  0.760854   \n",
       "15   volume-90.nii  0.761137  0.614383  0.385617  0.037387  1.753249   \n",
       "\n",
       "        RMSD        MSSD       SEN       SPE  \n",
       "0   2.707754   15.684387  0.966216  0.998656  \n",
       "1   5.693765   53.749420  0.883003  0.999851  \n",
       "2   2.875940   28.861740  0.759612  0.999914  \n",
       "3   1.351357    8.124039  0.826157  0.999868  \n",
       "4   6.672404  112.165054  0.829452  0.999988  \n",
       "5   1.044683    4.242640  0.778886  0.999988  \n",
       "6   3.577535   37.947330  0.947520  0.999148  \n",
       "7   0.762493    1.732051  0.806299  0.999998  \n",
       "8   3.387748   20.542639  0.993197  0.994720  \n",
       "9   8.464478   41.352146  0.898586  0.999918  \n",
       "10  0.821699    2.000000  0.913099  0.999977  \n",
       "11  0.874894    3.000000  0.964819  0.999857  \n",
       "12  7.786776   70.731888  0.965020  0.999786  \n",
       "13  1.027862    5.196152  0.606478  0.999987  \n",
       "14  1.528216   33.778690  0.920518  0.999900  \n",
       "15  2.444901   14.177447  0.747421  0.999735  "
      ]
     },
     "execution_count": 18,
     "metadata": {},
     "output_type": "execute_result"
    }
   ],
   "source": [
    "metric_df"
   ]
  },
  {
   "cell_type": "code",
   "execution_count": 20,
   "id": "6bb0d958",
   "metadata": {},
   "outputs": [],
   "source": [
    "os.makedirs('./excel_result/', exist_ok=True)"
   ]
  },
  {
   "cell_type": "code",
   "execution_count": 21,
   "id": "49cfa2d7",
   "metadata": {},
   "outputs": [
    {
     "name": "stderr",
     "output_type": "stream",
     "text": [
      "Dropping of nuisance columns in DataFrame reductions (with 'numeric_only=None') is deprecated; in a future version this will raise TypeError.  Select only valid columns before calling the reduction.\n"
     ]
    }
   ],
   "source": [
    "# df save\n",
    "metric_df.loc[-1] = metric_df.mean(axis=0)\n",
    "metric_df.to_csv('./excel_result/LiTS_Tumor_post.csv', index=True)"
   ]
  },
  {
   "cell_type": "code",
   "execution_count": null,
   "id": "016d13fb",
   "metadata": {},
   "outputs": [],
   "source": []
  }
 ],
 "metadata": {
  "kernelspec": {
   "display_name": "Python 3 (ipykernel)",
   "language": "python",
   "name": "python3"
  },
  "language_info": {
   "codemirror_mode": {
    "name": "ipython",
    "version": 3
   },
   "file_extension": ".py",
   "mimetype": "text/x-python",
   "name": "python",
   "nbconvert_exporter": "python",
   "pygments_lexer": "ipython3",
   "version": "3.9.19"
  }
 },
 "nbformat": 4,
 "nbformat_minor": 5
}
